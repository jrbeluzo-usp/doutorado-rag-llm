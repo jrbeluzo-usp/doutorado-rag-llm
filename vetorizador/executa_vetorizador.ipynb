{
 "cells": [
  {
   "cell_type": "code",
   "execution_count": 1,
   "id": "8fe41eff-3674-4410-887a-5868dd33d319",
   "metadata": {},
   "outputs": [],
   "source": [
    "import os\n",
    "import time\n",
    "import json "
   ]
  },
  {
   "cell_type": "code",
   "execution_count": 2,
   "id": "10ef7bbf-414e-4485-839c-9084e635278f",
   "metadata": {},
   "outputs": [],
   "source": [
    "chunk_size = \"2000\"\n",
    "chunk_overlap = \"500\"\n",
    "pasta_origem = \"/home/jrbeluzo/ollama/stage_pdf/arquivos\"\n",
    "nome_pasta_modelo_embedding = \"e5-mistral-7b-instruct_Q4_0\"\n",
    "nome_modelo_embedding = \"hellord/e5-mistral-7b-instruct:Q4_0\""
   ]
  },
  {
   "cell_type": "code",
   "execution_count": 5,
   "id": "c7ff053c-42b8-4de7-a940-f18818ea23de",
   "metadata": {},
   "outputs": [
    {
     "name": "stderr",
     "output_type": "stream",
     "text": [
      "  % Total    % Received % Xferd  Average Speed   Time    Time     Time  Current\n",
      "                                 Dload  Upload   Total   Spent    Left  Speed\n",
      "100  1018  100   291  100   727     12     32  0:00:24  0:00:22  0:00:02    84\n",
      "  % Total    % Received % Xferd  Average Speed   Time    Time     Time  Current\n",
      "                                 Dload  Upload   Total   Spent    Left  Speed\n",
      "  0     0    0     0    0     0      0      0 --:--:-- --:--:-- --:--:--     0"
     ]
    },
    {
     "name": "stdout",
     "output_type": "stream",
     "text": [
      "{\"session_id\":\"0c985a70-6cd0-4315-aa3a-0ae335b48c2e\",\"outputs\":[{\"inputs\":{\"input_value\":\"/home/jrbeluzo/ollama/stage_pdf/arquivos;;;02.txt;;;2000;;;500;;;/home/jrbeluzo/ollama/stage_pdf/vectorDB/ChromaDB/e5-mistral-7b-instruct_Q4_0/02;;;hellord/e5-mistral-7b-instruct:Q4_0\"},\"outputs\":[]}]}0\n"
     ]
    },
    {
     "name": "stderr",
     "output_type": "stream",
     "text": [
      "100  1018  100   291  100   727     14     36  0:00:20  0:00:19  0:00:01    78\n",
      "  % Total    % Received % Xferd  Average Speed   Time    Time     Time  Current\n",
      "                                 Dload  Upload   Total   Spent    Left  Speed\n",
      "  0     0    0     0    0     0      0      0 --:--:-- --:--:-- --:--:--     0"
     ]
    },
    {
     "name": "stdout",
     "output_type": "stream",
     "text": [
      "{\"session_id\":\"0c985a70-6cd0-4315-aa3a-0ae335b48c2e\",\"outputs\":[{\"inputs\":{\"input_value\":\"/home/jrbeluzo/ollama/stage_pdf/arquivos;;;03.txt;;;2000;;;500;;;/home/jrbeluzo/ollama/stage_pdf/vectorDB/ChromaDB/e5-mistral-7b-instruct_Q4_0/03;;;hellord/e5-mistral-7b-instruct:Q4_0\"},\"outputs\":[]}]}0\n"
     ]
    },
    {
     "name": "stderr",
     "output_type": "stream",
     "text": [
      "100  1018  100   291  100   727      9     24  0:00:32  0:00:29  0:00:03    65\n",
      "  % Total    % Received % Xferd  Average Speed   Time    Time     Time  Current\n",
      "                                 Dload  Upload   Total   Spent    Left  Speed\n",
      "  0     0    0     0    0     0      0      0 --:--:-- --:--:-- --:--:--     0"
     ]
    },
    {
     "name": "stdout",
     "output_type": "stream",
     "text": [
      "{\"session_id\":\"0c985a70-6cd0-4315-aa3a-0ae335b48c2e\",\"outputs\":[{\"inputs\":{\"input_value\":\"/home/jrbeluzo/ollama/stage_pdf/arquivos;;;04.txt;;;2000;;;500;;;/home/jrbeluzo/ollama/stage_pdf/vectorDB/ChromaDB/e5-mistral-7b-instruct_Q4_0/04;;;hellord/e5-mistral-7b-instruct:Q4_0\"},\"outputs\":[]}]}0\n"
     ]
    },
    {
     "name": "stderr",
     "output_type": "stream",
     "text": [
      "100  1018  100   291  100   727     10     25  0:00:29  0:00:28  0:00:01    60\n",
      "  % Total    % Received % Xferd  Average Speed   Time    Time     Time  Current\n",
      "                                 Dload  Upload   Total   Spent    Left  Speed\n",
      "  0     0    0     0    0     0      0      0 --:--:-- --:--:-- --:--:--     0"
     ]
    },
    {
     "name": "stdout",
     "output_type": "stream",
     "text": [
      "{\"session_id\":\"0c985a70-6cd0-4315-aa3a-0ae335b48c2e\",\"outputs\":[{\"inputs\":{\"input_value\":\"/home/jrbeluzo/ollama/stage_pdf/arquivos;;;05.txt;;;2000;;;500;;;/home/jrbeluzo/ollama/stage_pdf/vectorDB/ChromaDB/e5-mistral-7b-instruct_Q4_0/05;;;hellord/e5-mistral-7b-instruct:Q4_0\"},\"outputs\":[]}]}0\n"
     ]
    },
    {
     "name": "stderr",
     "output_type": "stream",
     "text": [
      "100  1018  100   291  100   727      7     18  0:00:41  0:00:38  0:00:03    70\n",
      "  % Total    % Received % Xferd  Average Speed   Time    Time     Time  Current\n",
      "                                 Dload  Upload   Total   Spent    Left  Speed\n",
      "  0     0    0     0    0     0      0      0 --:--:-- --:--:-- --:--:--     0"
     ]
    },
    {
     "name": "stdout",
     "output_type": "stream",
     "text": [
      "{\"session_id\":\"0c985a70-6cd0-4315-aa3a-0ae335b48c2e\",\"outputs\":[{\"inputs\":{\"input_value\":\"/home/jrbeluzo/ollama/stage_pdf/arquivos;;;06.txt;;;2000;;;500;;;/home/jrbeluzo/ollama/stage_pdf/vectorDB/ChromaDB/e5-mistral-7b-instruct_Q4_0/06;;;hellord/e5-mistral-7b-instruct:Q4_0\"},\"outputs\":[]}]}0\n"
     ]
    },
    {
     "name": "stderr",
     "output_type": "stream",
     "text": [
      "100  1018  100   291  100   727     14     35  0:00:20  0:00:20 --:--:--    67\n",
      "  % Total    % Received % Xferd  Average Speed   Time    Time     Time  Current\n",
      "                                 Dload  Upload   Total   Spent    Left  Speed\n",
      "  0     0    0     0    0     0      0      0 --:--:-- --:--:-- --:--:--     0"
     ]
    },
    {
     "name": "stdout",
     "output_type": "stream",
     "text": [
      "{\"session_id\":\"0c985a70-6cd0-4315-aa3a-0ae335b48c2e\",\"outputs\":[{\"inputs\":{\"input_value\":\"/home/jrbeluzo/ollama/stage_pdf/arquivos;;;07.txt;;;2000;;;500;;;/home/jrbeluzo/ollama/stage_pdf/vectorDB/ChromaDB/e5-mistral-7b-instruct_Q4_0/07;;;hellord/e5-mistral-7b-instruct:Q4_0\"},\"outputs\":[]}]}0\n"
     ]
    },
    {
     "name": "stderr",
     "output_type": "stream",
     "text": [
      "100  1018  100   291  100   727     10     26  0:00:29  0:00:27  0:00:02    63\n",
      "  % Total    % Received % Xferd  Average Speed   Time    Time     Time  Current\n",
      "                                 Dload  Upload   Total   Spent    Left  Speed\n",
      "  0     0    0     0    0     0      0      0 --:--:-- --:--:-- --:--:--     0"
     ]
    },
    {
     "name": "stdout",
     "output_type": "stream",
     "text": [
      "{\"session_id\":\"0c985a70-6cd0-4315-aa3a-0ae335b48c2e\",\"outputs\":[{\"inputs\":{\"input_value\":\"/home/jrbeluzo/ollama/stage_pdf/arquivos;;;09.txt;;;2000;;;500;;;/home/jrbeluzo/ollama/stage_pdf/vectorDB/ChromaDB/e5-mistral-7b-instruct_Q4_0/09;;;hellord/e5-mistral-7b-instruct:Q4_0\"},\"outputs\":[]}]}0\n"
     ]
    },
    {
     "name": "stderr",
     "output_type": "stream",
     "text": [
      "100  1018  100   291  100   727     10     26  0:00:29  0:00:27  0:00:02    73\n",
      "  % Total    % Received % Xferd  Average Speed   Time    Time     Time  Current\n",
      "                                 Dload  Upload   Total   Spent    Left  Speed\n",
      "  0     0    0     0    0     0      0      0 --:--:-- --:--:-- --:--:--     0"
     ]
    },
    {
     "name": "stdout",
     "output_type": "stream",
     "text": [
      "{\"session_id\":\"0c985a70-6cd0-4315-aa3a-0ae335b48c2e\",\"outputs\":[{\"inputs\":{\"input_value\":\"/home/jrbeluzo/ollama/stage_pdf/arquivos;;;10.txt;;;2000;;;500;;;/home/jrbeluzo/ollama/stage_pdf/vectorDB/ChromaDB/e5-mistral-7b-instruct_Q4_0/10;;;hellord/e5-mistral-7b-instruct:Q4_0\"},\"outputs\":[]}]}0\n"
     ]
    },
    {
     "name": "stderr",
     "output_type": "stream",
     "text": [
      "100  1018  100   291  100   727      8     21  0:00:36  0:00:34  0:00:02    60\n",
      "  % Total    % Received % Xferd  Average Speed   Time    Time     Time  Current\n",
      "                                 Dload  Upload   Total   Spent    Left  Speed\n",
      "  0     0    0     0    0     0      0      0 --:--:-- --:--:-- --:--:--     0"
     ]
    },
    {
     "name": "stdout",
     "output_type": "stream",
     "text": [
      "{\"session_id\":\"0c985a70-6cd0-4315-aa3a-0ae335b48c2e\",\"outputs\":[{\"inputs\":{\"input_value\":\"/home/jrbeluzo/ollama/stage_pdf/arquivos;;;11.txt;;;2000;;;500;;;/home/jrbeluzo/ollama/stage_pdf/vectorDB/ChromaDB/e5-mistral-7b-instruct_Q4_0/11;;;hellord/e5-mistral-7b-instruct:Q4_0\"},\"outputs\":[]}]}0\n"
     ]
    },
    {
     "name": "stderr",
     "output_type": "stream",
     "text": [
      "100  1018  100   291  100   727      7     18  0:00:41  0:00:39  0:00:02    60\n",
      "  % Total    % Received % Xferd  Average Speed   Time    Time     Time  Current\n",
      "                                 Dload  Upload   Total   Spent    Left  Speed\n",
      "  0     0    0     0    0     0      0      0 --:--:-- --:--:-- --:--:--     0"
     ]
    },
    {
     "name": "stdout",
     "output_type": "stream",
     "text": [
      "{\"session_id\":\"0c985a70-6cd0-4315-aa3a-0ae335b48c2e\",\"outputs\":[{\"inputs\":{\"input_value\":\"/home/jrbeluzo/ollama/stage_pdf/arquivos;;;12.txt;;;2000;;;500;;;/home/jrbeluzo/ollama/stage_pdf/vectorDB/ChromaDB/e5-mistral-7b-instruct_Q4_0/12;;;hellord/e5-mistral-7b-instruct:Q4_0\"},\"outputs\":[]}]}0\n"
     ]
    },
    {
     "name": "stderr",
     "output_type": "stream",
     "text": [
      "100  1018  100   291  100   727      3      9  0:01:37  0:01:20  0:00:17    75\n",
      "  % Total    % Received % Xferd  Average Speed   Time    Time     Time  Current\n",
      "                                 Dload  Upload   Total   Spent    Left  Speed\n",
      "  0     0    0     0    0     0      0      0 --:--:-- --:--:-- --:--:--     0"
     ]
    },
    {
     "name": "stdout",
     "output_type": "stream",
     "text": [
      "{\"session_id\":\"0c985a70-6cd0-4315-aa3a-0ae335b48c2e\",\"outputs\":[{\"inputs\":{\"input_value\":\"/home/jrbeluzo/ollama/stage_pdf/arquivos;;;14.txt;;;2000;;;500;;;/home/jrbeluzo/ollama/stage_pdf/vectorDB/ChromaDB/e5-mistral-7b-instruct_Q4_0/14;;;hellord/e5-mistral-7b-instruct:Q4_0\"},\"outputs\":[]}]}0\n"
     ]
    },
    {
     "name": "stderr",
     "output_type": "stream",
     "text": [
      "100  1018  100   291  100   727      1      4  0:04:51  0:02:53  0:01:58    74\n",
      "  % Total    % Received % Xferd  Average Speed   Time    Time     Time  Current\n",
      "                                 Dload  Upload   Total   Spent    Left  Speed\n",
      "  0     0    0     0    0     0      0      0 --:--:-- --:--:-- --:--:--     0"
     ]
    },
    {
     "name": "stdout",
     "output_type": "stream",
     "text": [
      "{\"session_id\":\"0c985a70-6cd0-4315-aa3a-0ae335b48c2e\",\"outputs\":[{\"inputs\":{\"input_value\":\"/home/jrbeluzo/ollama/stage_pdf/arquivos;;;16.txt;;;2000;;;500;;;/home/jrbeluzo/ollama/stage_pdf/vectorDB/ChromaDB/e5-mistral-7b-instruct_Q4_0/16;;;hellord/e5-mistral-7b-instruct:Q4_0\"},\"outputs\":[]}]}0\n"
     ]
    },
    {
     "name": "stderr",
     "output_type": "stream",
     "text": [
      "100  1018  100   291  100   727      8     21  0:00:36  0:00:33  0:00:03    62\n",
      "  % Total    % Received % Xferd  Average Speed   Time    Time     Time  Current\n",
      "                                 Dload  Upload   Total   Spent    Left  Speed\n",
      "  0     0    0     0    0     0      0      0 --:--:-- --:--:-- --:--:--     0"
     ]
    },
    {
     "name": "stdout",
     "output_type": "stream",
     "text": [
      "{\"session_id\":\"0c985a70-6cd0-4315-aa3a-0ae335b48c2e\",\"outputs\":[{\"inputs\":{\"input_value\":\"/home/jrbeluzo/ollama/stage_pdf/arquivos;;;17.txt;;;2000;;;500;;;/home/jrbeluzo/ollama/stage_pdf/vectorDB/ChromaDB/e5-mistral-7b-instruct_Q4_0/17;;;hellord/e5-mistral-7b-instruct:Q4_0\"},\"outputs\":[]}]}0\n"
     ]
    },
    {
     "name": "stderr",
     "output_type": "stream",
     "text": [
      "100  1018  100   291  100   727      8     20  0:00:36  0:00:35  0:00:01    66\n",
      "  % Total    % Received % Xferd  Average Speed   Time    Time     Time  Current\n",
      "                                 Dload  Upload   Total   Spent    Left  Speed\n",
      "  0     0    0     0    0     0      0      0 --:--:-- --:--:-- --:--:--     0"
     ]
    },
    {
     "name": "stdout",
     "output_type": "stream",
     "text": [
      "{\"session_id\":\"0c985a70-6cd0-4315-aa3a-0ae335b48c2e\",\"outputs\":[{\"inputs\":{\"input_value\":\"/home/jrbeluzo/ollama/stage_pdf/arquivos;;;18.txt;;;2000;;;500;;;/home/jrbeluzo/ollama/stage_pdf/vectorDB/ChromaDB/e5-mistral-7b-instruct_Q4_0/18;;;hellord/e5-mistral-7b-instruct:Q4_0\"},\"outputs\":[]}]}0\n"
     ]
    },
    {
     "name": "stderr",
     "output_type": "stream",
     "text": [
      "100  1018  100   291  100   727     14     35  0:00:20  0:00:20 --:--:--    70\n",
      "  % Total    % Received % Xferd  Average Speed   Time    Time     Time  Current\n",
      "                                 Dload  Upload   Total   Spent    Left  Speed\n",
      "  0     0    0     0    0     0      0      0 --:--:-- --:--:-- --:--:--     0"
     ]
    },
    {
     "name": "stdout",
     "output_type": "stream",
     "text": [
      "{\"session_id\":\"0c985a70-6cd0-4315-aa3a-0ae335b48c2e\",\"outputs\":[{\"inputs\":{\"input_value\":\"/home/jrbeluzo/ollama/stage_pdf/arquivos;;;19.txt;;;2000;;;500;;;/home/jrbeluzo/ollama/stage_pdf/vectorDB/ChromaDB/e5-mistral-7b-instruct_Q4_0/19;;;hellord/e5-mistral-7b-instruct:Q4_0\"},\"outputs\":[]}]}0\n"
     ]
    },
    {
     "name": "stderr",
     "output_type": "stream",
     "text": [
      "100  1018  100   291  100   727     17     43  0:00:17  0:00:16  0:00:01    65\n",
      "  % Total    % Received % Xferd  Average Speed   Time    Time     Time  Current\n",
      "                                 Dload  Upload   Total   Spent    Left  Speed\n",
      "  0     0    0     0    0     0      0      0 --:--:-- --:--:-- --:--:--     0"
     ]
    },
    {
     "name": "stdout",
     "output_type": "stream",
     "text": [
      "{\"session_id\":\"0c985a70-6cd0-4315-aa3a-0ae335b48c2e\",\"outputs\":[{\"inputs\":{\"input_value\":\"/home/jrbeluzo/ollama/stage_pdf/arquivos;;;20.txt;;;2000;;;500;;;/home/jrbeluzo/ollama/stage_pdf/vectorDB/ChromaDB/e5-mistral-7b-instruct_Q4_0/20;;;hellord/e5-mistral-7b-instruct:Q4_0\"},\"outputs\":[]}]}0\n"
     ]
    },
    {
     "name": "stderr",
     "output_type": "stream",
     "text": [
      "100  1018  100   291  100   727      2      6  0:02:25  0:01:57  0:00:28    72\n",
      "  % Total    % Received % Xferd  Average Speed   Time    Time     Time  Current\n",
      "                                 Dload  Upload   Total   Spent    Left  Speed\n",
      "  0     0    0     0    0     0      0      0 --:--:-- --:--:-- --:--:--     0"
     ]
    },
    {
     "name": "stdout",
     "output_type": "stream",
     "text": [
      "{\"session_id\":\"0c985a70-6cd0-4315-aa3a-0ae335b48c2e\",\"outputs\":[{\"inputs\":{\"input_value\":\"/home/jrbeluzo/ollama/stage_pdf/arquivos;;;21.txt;;;2000;;;500;;;/home/jrbeluzo/ollama/stage_pdf/vectorDB/ChromaDB/e5-mistral-7b-instruct_Q4_0/21;;;hellord/e5-mistral-7b-instruct:Q4_0\"},\"outputs\":[]}]}0\n"
     ]
    },
    {
     "name": "stderr",
     "output_type": "stream",
     "text": [
      "100  1018  100   291  100   727     14     35  0:00:20  0:00:20 --:--:--    70\n",
      "  % Total    % Received % Xferd  Average Speed   Time    Time     Time  Current\n",
      "                                 Dload  Upload   Total   Spent    Left  Speed\n",
      "  0     0    0     0    0     0      0      0 --:--:-- --:--:-- --:--:--     0"
     ]
    },
    {
     "name": "stdout",
     "output_type": "stream",
     "text": [
      "{\"session_id\":\"0c985a70-6cd0-4315-aa3a-0ae335b48c2e\",\"outputs\":[{\"inputs\":{\"input_value\":\"/home/jrbeluzo/ollama/stage_pdf/arquivos;;;22.txt;;;2000;;;500;;;/home/jrbeluzo/ollama/stage_pdf/vectorDB/ChromaDB/e5-mistral-7b-instruct_Q4_0/22;;;hellord/e5-mistral-7b-instruct:Q4_0\"},\"outputs\":[]}]}0\n"
     ]
    },
    {
     "name": "stderr",
     "output_type": "stream",
     "text": [
      "100  1018  100   291  100   727      7     18  0:00:41  0:00:39  0:00:02    71\n",
      "  % Total    % Received % Xferd  Average Speed   Time    Time     Time  Current\n",
      "                                 Dload  Upload   Total   Spent    Left  Speed\n",
      "  0     0    0     0    0     0      0      0 --:--:-- --:--:-- --:--:--     0"
     ]
    },
    {
     "name": "stdout",
     "output_type": "stream",
     "text": [
      "{\"session_id\":\"0c985a70-6cd0-4315-aa3a-0ae335b48c2e\",\"outputs\":[{\"inputs\":{\"input_value\":\"/home/jrbeluzo/ollama/stage_pdf/arquivos;;;23.txt;;;2000;;;500;;;/home/jrbeluzo/ollama/stage_pdf/vectorDB/ChromaDB/e5-mistral-7b-instruct_Q4_0/23;;;hellord/e5-mistral-7b-instruct:Q4_0\"},\"outputs\":[]}]}0\n"
     ]
    },
    {
     "name": "stderr",
     "output_type": "stream",
     "text": [
      "100  1018  100   291  100   727      9     24  0:00:32  0:00:30  0:00:02    72\n",
      "  % Total    % Received % Xferd  Average Speed   Time    Time     Time  Current\n",
      "                                 Dload  Upload   Total   Spent    Left  Speed\n",
      "  0     0    0     0    0     0      0      0 --:--:-- --:--:-- --:--:--     0"
     ]
    },
    {
     "name": "stdout",
     "output_type": "stream",
     "text": [
      "{\"session_id\":\"0c985a70-6cd0-4315-aa3a-0ae335b48c2e\",\"outputs\":[{\"inputs\":{\"input_value\":\"/home/jrbeluzo/ollama/stage_pdf/arquivos;;;24.txt;;;2000;;;500;;;/home/jrbeluzo/ollama/stage_pdf/vectorDB/ChromaDB/e5-mistral-7b-instruct_Q4_0/24;;;hellord/e5-mistral-7b-instruct:Q4_0\"},\"outputs\":[]}]}0\n"
     ]
    },
    {
     "name": "stderr",
     "output_type": "stream",
     "text": [
      "100  1018  100   291  100   727      6     16  0:00:48  0:00:44  0:00:04    65\n",
      "  % Total    % Received % Xferd  Average Speed   Time    Time     Time  Current\n",
      "                                 Dload  Upload   Total   Spent    Left  Speed\n",
      "  0     0    0     0    0     0      0      0 --:--:-- --:--:-- --:--:--     0"
     ]
    },
    {
     "name": "stdout",
     "output_type": "stream",
     "text": [
      "{\"session_id\":\"0c985a70-6cd0-4315-aa3a-0ae335b48c2e\",\"outputs\":[{\"inputs\":{\"input_value\":\"/home/jrbeluzo/ollama/stage_pdf/arquivos;;;25.txt;;;2000;;;500;;;/home/jrbeluzo/ollama/stage_pdf/vectorDB/ChromaDB/e5-mistral-7b-instruct_Q4_0/25;;;hellord/e5-mistral-7b-instruct:Q4_0\"},\"outputs\":[]}]}0\n"
     ]
    },
    {
     "name": "stderr",
     "output_type": "stream",
     "text": [
      "100  1018  100   291  100   727      3      9  0:01:37  0:01:16  0:00:21    85\n",
      "  % Total    % Received % Xferd  Average Speed   Time    Time     Time  Current\n",
      "                                 Dload  Upload   Total   Spent    Left  Speed\n",
      "  0     0    0     0    0     0      0      0 --:--:-- --:--:-- --:--:--     0"
     ]
    },
    {
     "name": "stdout",
     "output_type": "stream",
     "text": [
      "{\"session_id\":\"0c985a70-6cd0-4315-aa3a-0ae335b48c2e\",\"outputs\":[{\"inputs\":{\"input_value\":\"/home/jrbeluzo/ollama/stage_pdf/arquivos;;;26.txt;;;2000;;;500;;;/home/jrbeluzo/ollama/stage_pdf/vectorDB/ChromaDB/e5-mistral-7b-instruct_Q4_0/26;;;hellord/e5-mistral-7b-instruct:Q4_0\"},\"outputs\":[]}]}0\n"
     ]
    },
    {
     "name": "stderr",
     "output_type": "stream",
     "text": [
      "100  1018  100   291  100   727      6     16  0:00:48  0:00:43  0:00:05    64\n",
      "  % Total    % Received % Xferd  Average Speed   Time    Time     Time  Current\n",
      "                                 Dload  Upload   Total   Spent    Left  Speed\n",
      "  0     0    0     0    0     0      0      0 --:--:-- --:--:-- --:--:--     0"
     ]
    },
    {
     "name": "stdout",
     "output_type": "stream",
     "text": [
      "{\"session_id\":\"0c985a70-6cd0-4315-aa3a-0ae335b48c2e\",\"outputs\":[{\"inputs\":{\"input_value\":\"/home/jrbeluzo/ollama/stage_pdf/arquivos;;;28.txt;;;2000;;;500;;;/home/jrbeluzo/ollama/stage_pdf/vectorDB/ChromaDB/e5-mistral-7b-instruct_Q4_0/28;;;hellord/e5-mistral-7b-instruct:Q4_0\"},\"outputs\":[]}]}0\n"
     ]
    },
    {
     "name": "stderr",
     "output_type": "stream",
     "text": [
      "100  1018  100   291  100   727      7     18  0:00:41  0:00:39  0:00:02    62\n",
      "  % Total    % Received % Xferd  Average Speed   Time    Time     Time  Current\n",
      "                                 Dload  Upload   Total   Spent    Left  Speed\n",
      "  0     0    0     0    0     0      0      0 --:--:-- --:--:-- --:--:--     0"
     ]
    },
    {
     "name": "stdout",
     "output_type": "stream",
     "text": [
      "{\"session_id\":\"0c985a70-6cd0-4315-aa3a-0ae335b48c2e\",\"outputs\":[{\"inputs\":{\"input_value\":\"/home/jrbeluzo/ollama/stage_pdf/arquivos;;;29.txt;;;2000;;;500;;;/home/jrbeluzo/ollama/stage_pdf/vectorDB/ChromaDB/e5-mistral-7b-instruct_Q4_0/29;;;hellord/e5-mistral-7b-instruct:Q4_0\"},\"outputs\":[]}]}0\n"
     ]
    },
    {
     "name": "stderr",
     "output_type": "stream",
     "text": [
      "100  1018  100   291  100   727      7     19  0:00:41  0:00:37  0:00:04    75\n",
      "  % Total    % Received % Xferd  Average Speed   Time    Time     Time  Current\n",
      "                                 Dload  Upload   Total   Spent    Left  Speed\n",
      "  0     0    0     0    0     0      0      0 --:--:-- --:--:-- --:--:--     0"
     ]
    },
    {
     "name": "stdout",
     "output_type": "stream",
     "text": [
      "{\"session_id\":\"0c985a70-6cd0-4315-aa3a-0ae335b48c2e\",\"outputs\":[{\"inputs\":{\"input_value\":\"/home/jrbeluzo/ollama/stage_pdf/arquivos;;;31.txt;;;2000;;;500;;;/home/jrbeluzo/ollama/stage_pdf/vectorDB/ChromaDB/e5-mistral-7b-instruct_Q4_0/31;;;hellord/e5-mistral-7b-instruct:Q4_0\"},\"outputs\":[]}]}0\n"
     ]
    },
    {
     "name": "stderr",
     "output_type": "stream",
     "text": [
      "100  1018  100   291  100   727     11     28  0:00:26  0:00:25  0:00:01    62\n",
      "  % Total    % Received % Xferd  Average Speed   Time    Time     Time  Current\n",
      "                                 Dload  Upload   Total   Spent    Left  Speed\n",
      "  0     0    0     0    0     0      0      0 --:--:-- --:--:-- --:--:--     0"
     ]
    },
    {
     "name": "stdout",
     "output_type": "stream",
     "text": [
      "{\"session_id\":\"0c985a70-6cd0-4315-aa3a-0ae335b48c2e\",\"outputs\":[{\"inputs\":{\"input_value\":\"/home/jrbeluzo/ollama/stage_pdf/arquivos;;;32.txt;;;2000;;;500;;;/home/jrbeluzo/ollama/stage_pdf/vectorDB/ChromaDB/e5-mistral-7b-instruct_Q4_0/32;;;hellord/e5-mistral-7b-instruct:Q4_0\"},\"outputs\":[]}]}0\n"
     ]
    },
    {
     "name": "stderr",
     "output_type": "stream",
     "text": [
      "100  1018  100   291  100   727      5     13  0:00:58  0:00:52  0:00:06    66\n",
      "  % Total    % Received % Xferd  Average Speed   Time    Time     Time  Current\n",
      "                                 Dload  Upload   Total   Spent    Left  Speed\n",
      "  0     0    0     0    0     0      0      0 --:--:-- --:--:-- --:--:--     0"
     ]
    },
    {
     "name": "stdout",
     "output_type": "stream",
     "text": [
      "{\"session_id\":\"0c985a70-6cd0-4315-aa3a-0ae335b48c2e\",\"outputs\":[{\"inputs\":{\"input_value\":\"/home/jrbeluzo/ollama/stage_pdf/arquivos;;;33.txt;;;2000;;;500;;;/home/jrbeluzo/ollama/stage_pdf/vectorDB/ChromaDB/e5-mistral-7b-instruct_Q4_0/33;;;hellord/e5-mistral-7b-instruct:Q4_0\"},\"outputs\":[]}]}0\n"
     ]
    },
    {
     "name": "stderr",
     "output_type": "stream",
     "text": [
      "100  1018  100   291  100   727      3      9  0:01:37  0:01:16  0:00:21    82\n",
      "  % Total    % Received % Xferd  Average Speed   Time    Time     Time  Current\n",
      "                                 Dload  Upload   Total   Spent    Left  Speed\n",
      "  0     0    0     0    0     0      0      0 --:--:-- --:--:-- --:--:--     0"
     ]
    },
    {
     "name": "stdout",
     "output_type": "stream",
     "text": [
      "{\"session_id\":\"0c985a70-6cd0-4315-aa3a-0ae335b48c2e\",\"outputs\":[{\"inputs\":{\"input_value\":\"/home/jrbeluzo/ollama/stage_pdf/arquivos;;;34.txt;;;2000;;;500;;;/home/jrbeluzo/ollama/stage_pdf/vectorDB/ChromaDB/e5-mistral-7b-instruct_Q4_0/34;;;hellord/e5-mistral-7b-instruct:Q4_0\"},\"outputs\":[]}]}0\n"
     ]
    },
    {
     "name": "stderr",
     "output_type": "stream",
     "text": [
      "100  1018  100   291  100   727     11     28  0:00:26  0:00:25  0:00:01    79\n",
      "  % Total    % Received % Xferd  Average Speed   Time    Time     Time  Current\n",
      "                                 Dload  Upload   Total   Spent    Left  Speed\n",
      "  0     0    0     0    0     0      0      0 --:--:-- --:--:-- --:--:--     0"
     ]
    },
    {
     "name": "stdout",
     "output_type": "stream",
     "text": [
      "{\"session_id\":\"0c985a70-6cd0-4315-aa3a-0ae335b48c2e\",\"outputs\":[{\"inputs\":{\"input_value\":\"/home/jrbeluzo/ollama/stage_pdf/arquivos;;;35.txt;;;2000;;;500;;;/home/jrbeluzo/ollama/stage_pdf/vectorDB/ChromaDB/e5-mistral-7b-instruct_Q4_0/35;;;hellord/e5-mistral-7b-instruct:Q4_0\"},\"outputs\":[]}]}0\n"
     ]
    },
    {
     "name": "stderr",
     "output_type": "stream",
     "text": [
      "100  1018  100   291  100   727     12     30  0:00:24  0:00:23  0:00:01    77\n",
      "  % Total    % Received % Xferd  Average Speed   Time    Time     Time  Current\n",
      "                                 Dload  Upload   Total   Spent    Left  Speed\n",
      "  0     0    0     0    0     0      0      0 --:--:-- --:--:-- --:--:--     0"
     ]
    },
    {
     "name": "stdout",
     "output_type": "stream",
     "text": [
      "{\"session_id\":\"0c985a70-6cd0-4315-aa3a-0ae335b48c2e\",\"outputs\":[{\"inputs\":{\"input_value\":\"/home/jrbeluzo/ollama/stage_pdf/arquivos;;;36.txt;;;2000;;;500;;;/home/jrbeluzo/ollama/stage_pdf/vectorDB/ChromaDB/e5-mistral-7b-instruct_Q4_0/36;;;hellord/e5-mistral-7b-instruct:Q4_0\"},\"outputs\":[]}]}0\n"
     ]
    },
    {
     "name": "stderr",
     "output_type": "stream",
     "text": [
      "100  1018  100   291  100   727      3      9  0:01:37  0:01:16  0:00:21    66\n",
      "  % Total    % Received % Xferd  Average Speed   Time    Time     Time  Current\n",
      "                                 Dload  Upload   Total   Spent    Left  Speed\n",
      "  0     0    0     0    0     0      0      0 --:--:-- --:--:-- --:--:--     0"
     ]
    },
    {
     "name": "stdout",
     "output_type": "stream",
     "text": [
      "{\"session_id\":\"0c985a70-6cd0-4315-aa3a-0ae335b48c2e\",\"outputs\":[{\"inputs\":{\"input_value\":\"/home/jrbeluzo/ollama/stage_pdf/arquivos;;;37.txt;;;2000;;;500;;;/home/jrbeluzo/ollama/stage_pdf/vectorDB/ChromaDB/e5-mistral-7b-instruct_Q4_0/37;;;hellord/e5-mistral-7b-instruct:Q4_0\"},\"outputs\":[]}]}0\n"
     ]
    },
    {
     "name": "stderr",
     "output_type": "stream",
     "text": [
      "100  1018  100   291  100   727      2      6  0:02:25  0:01:59  0:00:26    61\n",
      "  % Total    % Received % Xferd  Average Speed   Time    Time     Time  Current\n",
      "                                 Dload  Upload   Total   Spent    Left  Speed\n",
      "  0     0    0     0    0     0      0      0 --:--:-- --:--:-- --:--:--     0"
     ]
    },
    {
     "name": "stdout",
     "output_type": "stream",
     "text": [
      "{\"session_id\":\"0c985a70-6cd0-4315-aa3a-0ae335b48c2e\",\"outputs\":[{\"inputs\":{\"input_value\":\"/home/jrbeluzo/ollama/stage_pdf/arquivos;;;39.txt;;;2000;;;500;;;/home/jrbeluzo/ollama/stage_pdf/vectorDB/ChromaDB/e5-mistral-7b-instruct_Q4_0/39;;;hellord/e5-mistral-7b-instruct:Q4_0\"},\"outputs\":[]}]}0\n"
     ]
    },
    {
     "name": "stderr",
     "output_type": "stream",
     "text": [
      "100  1018  100   291  100   727      7     19  0:00:41  0:00:37  0:00:04    61\n",
      "  % Total    % Received % Xferd  Average Speed   Time    Time     Time  Current\n",
      "                                 Dload  Upload   Total   Spent    Left  Speed\n",
      "  0     0    0     0    0     0      0      0 --:--:-- --:--:-- --:--:--     0"
     ]
    },
    {
     "name": "stdout",
     "output_type": "stream",
     "text": [
      "{\"session_id\":\"0c985a70-6cd0-4315-aa3a-0ae335b48c2e\",\"outputs\":[{\"inputs\":{\"input_value\":\"/home/jrbeluzo/ollama/stage_pdf/arquivos;;;40.txt;;;2000;;;500;;;/home/jrbeluzo/ollama/stage_pdf/vectorDB/ChromaDB/e5-mistral-7b-instruct_Q4_0/40;;;hellord/e5-mistral-7b-instruct:Q4_0\"},\"outputs\":[]}]}0\n"
     ]
    },
    {
     "name": "stderr",
     "output_type": "stream",
     "text": [
      "100  1018  100   291  100   727     13     33  0:00:22  0:00:21  0:00:01    67\n",
      "  % Total    % Received % Xferd  Average Speed   Time    Time     Time  Current\n",
      "                                 Dload  Upload   Total   Spent    Left  Speed\n",
      "  0     0    0     0    0     0      0      0 --:--:-- --:--:-- --:--:--     0"
     ]
    },
    {
     "name": "stdout",
     "output_type": "stream",
     "text": [
      "{\"session_id\":\"0c985a70-6cd0-4315-aa3a-0ae335b48c2e\",\"outputs\":[{\"inputs\":{\"input_value\":\"/home/jrbeluzo/ollama/stage_pdf/arquivos;;;43.txt;;;2000;;;500;;;/home/jrbeluzo/ollama/stage_pdf/vectorDB/ChromaDB/e5-mistral-7b-instruct_Q4_0/43;;;hellord/e5-mistral-7b-instruct:Q4_0\"},\"outputs\":[]}]}0\n"
     ]
    },
    {
     "name": "stderr",
     "output_type": "stream",
     "text": [
      "100  1018  100   291  100   727      3      9  0:01:37  0:01:19  0:00:18    81\n",
      "  % Total    % Received % Xferd  Average Speed   Time    Time     Time  Current\n",
      "                                 Dload  Upload   Total   Spent    Left  Speed\n",
      "  0     0    0     0    0     0      0      0 --:--:-- --:--:-- --:--:--     0"
     ]
    },
    {
     "name": "stdout",
     "output_type": "stream",
     "text": [
      "{\"session_id\":\"0c985a70-6cd0-4315-aa3a-0ae335b48c2e\",\"outputs\":[{\"inputs\":{\"input_value\":\"/home/jrbeluzo/ollama/stage_pdf/arquivos;;;44.txt;;;2000;;;500;;;/home/jrbeluzo/ollama/stage_pdf/vectorDB/ChromaDB/e5-mistral-7b-instruct_Q4_0/44;;;hellord/e5-mistral-7b-instruct:Q4_0\"},\"outputs\":[]}]}0\n"
     ]
    },
    {
     "name": "stderr",
     "output_type": "stream",
     "text": [
      "100  1018  100   291  100   727     11     29  0:00:26  0:00:24  0:00:02    66\n",
      "  % Total    % Received % Xferd  Average Speed   Time    Time     Time  Current\n",
      "                                 Dload  Upload   Total   Spent    Left  Speed\n",
      "  0     0    0     0    0     0      0      0 --:--:-- --:--:-- --:--:--     0"
     ]
    },
    {
     "name": "stdout",
     "output_type": "stream",
     "text": [
      "{\"session_id\":\"0c985a70-6cd0-4315-aa3a-0ae335b48c2e\",\"outputs\":[{\"inputs\":{\"input_value\":\"/home/jrbeluzo/ollama/stage_pdf/arquivos;;;45.txt;;;2000;;;500;;;/home/jrbeluzo/ollama/stage_pdf/vectorDB/ChromaDB/e5-mistral-7b-instruct_Q4_0/45;;;hellord/e5-mistral-7b-instruct:Q4_0\"},\"outputs\":[]}]}0\n"
     ]
    },
    {
     "name": "stderr",
     "output_type": "stream",
     "text": [
      "100  1018  100   291  100   727      2      6  0:02:25  0:02:00  0:00:25    64\n",
      "  % Total    % Received % Xferd  Average Speed   Time    Time     Time  Current\n",
      "                                 Dload  Upload   Total   Spent    Left  Speed\n",
      "  0     0    0     0    0     0      0      0 --:--:-- --:--:-- --:--:--     0"
     ]
    },
    {
     "name": "stdout",
     "output_type": "stream",
     "text": [
      "{\"session_id\":\"0c985a70-6cd0-4315-aa3a-0ae335b48c2e\",\"outputs\":[{\"inputs\":{\"input_value\":\"/home/jrbeluzo/ollama/stage_pdf/arquivos;;;46.txt;;;2000;;;500;;;/home/jrbeluzo/ollama/stage_pdf/vectorDB/ChromaDB/e5-mistral-7b-instruct_Q4_0/46;;;hellord/e5-mistral-7b-instruct:Q4_0\"},\"outputs\":[]}]}0\n"
     ]
    },
    {
     "name": "stderr",
     "output_type": "stream",
     "text": [
      "100  1018  100   291  100   727      3      7  0:01:43  0:01:31  0:00:12    73\n",
      "  % Total    % Received % Xferd  Average Speed   Time    Time     Time  Current\n",
      "                                 Dload  Upload   Total   Spent    Left  Speed\n",
      "  0     0    0     0    0     0      0      0 --:--:-- --:--:-- --:--:--     0"
     ]
    },
    {
     "name": "stdout",
     "output_type": "stream",
     "text": [
      "{\"session_id\":\"0c985a70-6cd0-4315-aa3a-0ae335b48c2e\",\"outputs\":[{\"inputs\":{\"input_value\":\"/home/jrbeluzo/ollama/stage_pdf/arquivos;;;48.txt;;;2000;;;500;;;/home/jrbeluzo/ollama/stage_pdf/vectorDB/ChromaDB/e5-mistral-7b-instruct_Q4_0/48;;;hellord/e5-mistral-7b-instruct:Q4_0\"},\"outputs\":[]}]}0\n"
     ]
    },
    {
     "name": "stderr",
     "output_type": "stream",
     "text": [
      "100  1018  100   291  100   727      1      3  0:04:51  0:03:38  0:01:13    71\n",
      "  % Total    % Received % Xferd  Average Speed   Time    Time     Time  Current\n",
      "                                 Dload  Upload   Total   Spent    Left  Speed\n",
      "  0     0    0     0    0     0      0      0 --:--:-- --:--:-- --:--:--     0"
     ]
    },
    {
     "name": "stdout",
     "output_type": "stream",
     "text": [
      "{\"session_id\":\"0c985a70-6cd0-4315-aa3a-0ae335b48c2e\",\"outputs\":[{\"inputs\":{\"input_value\":\"/home/jrbeluzo/ollama/stage_pdf/arquivos;;;50.txt;;;2000;;;500;;;/home/jrbeluzo/ollama/stage_pdf/vectorDB/ChromaDB/e5-mistral-7b-instruct_Q4_0/50;;;hellord/e5-mistral-7b-instruct:Q4_0\"},\"outputs\":[]}]}0\n"
     ]
    },
    {
     "name": "stderr",
     "output_type": "stream",
     "text": [
      "100  1018  100   291  100   727      1      4  0:04:51  0:02:39  0:02:12    67\n",
      "  % Total    % Received % Xferd  Average Speed   Time    Time     Time  Current\n",
      "                                 Dload  Upload   Total   Spent    Left  Speed\n",
      "  0     0    0     0    0     0      0      0 --:--:-- --:--:-- --:--:--     0"
     ]
    },
    {
     "name": "stdout",
     "output_type": "stream",
     "text": [
      "{\"session_id\":\"0c985a70-6cd0-4315-aa3a-0ae335b48c2e\",\"outputs\":[{\"inputs\":{\"input_value\":\"/home/jrbeluzo/ollama/stage_pdf/arquivos;;;51.txt;;;2000;;;500;;;/home/jrbeluzo/ollama/stage_pdf/vectorDB/ChromaDB/e5-mistral-7b-instruct_Q4_0/51;;;hellord/e5-mistral-7b-instruct:Q4_0\"},\"outputs\":[]}]}0\n"
     ]
    },
    {
     "name": "stderr",
     "output_type": "stream",
     "text": [
      "100  1018  100   291  100   727      3      8  0:01:37  0:01:29  0:00:08    71\n",
      "  % Total    % Received % Xferd  Average Speed   Time    Time     Time  Current\n",
      "                                 Dload  Upload   Total   Spent    Left  Speed\n",
      "  0     0    0     0    0     0      0      0 --:--:-- --:--:-- --:--:--     0"
     ]
    },
    {
     "name": "stdout",
     "output_type": "stream",
     "text": [
      "{\"session_id\":\"0c985a70-6cd0-4315-aa3a-0ae335b48c2e\",\"outputs\":[{\"inputs\":{\"input_value\":\"/home/jrbeluzo/ollama/stage_pdf/arquivos;;;52.txt;;;2000;;;500;;;/home/jrbeluzo/ollama/stage_pdf/vectorDB/ChromaDB/e5-mistral-7b-instruct_Q4_0/52;;;hellord/e5-mistral-7b-instruct:Q4_0\"},\"outputs\":[]}]}0\n"
     ]
    },
    {
     "name": "stderr",
     "output_type": "stream",
     "text": [
      "100  1018  100   291  100   727      4     11  0:01:12  0:01:04  0:00:08    66\n",
      "  % Total    % Received % Xferd  Average Speed   Time    Time     Time  Current\n",
      "                                 Dload  Upload   Total   Spent    Left  Speed\n",
      "  0     0    0     0    0     0      0      0 --:--:-- --:--:-- --:--:--     0"
     ]
    },
    {
     "name": "stdout",
     "output_type": "stream",
     "text": [
      "{\"session_id\":\"0c985a70-6cd0-4315-aa3a-0ae335b48c2e\",\"outputs\":[{\"inputs\":{\"input_value\":\"/home/jrbeluzo/ollama/stage_pdf/arquivos;;;53.txt;;;2000;;;500;;;/home/jrbeluzo/ollama/stage_pdf/vectorDB/ChromaDB/e5-mistral-7b-instruct_Q4_0/53;;;hellord/e5-mistral-7b-instruct:Q4_0\"},\"outputs\":[]}]}0\n"
     ]
    },
    {
     "name": "stderr",
     "output_type": "stream",
     "text": [
      "100  1018  100   291  100   727      8     22  0:00:36  0:00:32  0:00:04    77\n",
      "  % Total    % Received % Xferd  Average Speed   Time    Time     Time  Current\n",
      "                                 Dload  Upload   Total   Spent    Left  Speed\n",
      "  0     0    0     0    0     0      0      0 --:--:-- --:--:-- --:--:--     0"
     ]
    },
    {
     "name": "stdout",
     "output_type": "stream",
     "text": [
      "{\"session_id\":\"0c985a70-6cd0-4315-aa3a-0ae335b48c2e\",\"outputs\":[{\"inputs\":{\"input_value\":\"/home/jrbeluzo/ollama/stage_pdf/arquivos;;;54.txt;;;2000;;;500;;;/home/jrbeluzo/ollama/stage_pdf/vectorDB/ChromaDB/e5-mistral-7b-instruct_Q4_0/54;;;hellord/e5-mistral-7b-instruct:Q4_0\"},\"outputs\":[]}]}0\n"
     ]
    },
    {
     "name": "stderr",
     "output_type": "stream",
     "text": [
      "100  1018  100   291  100   727     11     28  0:00:26  0:00:25  0:00:01    72\n",
      "  % Total    % Received % Xferd  Average Speed   Time    Time     Time  Current\n",
      "                                 Dload  Upload   Total   Spent    Left  Speed\n",
      "  0     0    0     0    0     0      0      0 --:--:-- --:--:-- --:--:--     0"
     ]
    },
    {
     "name": "stdout",
     "output_type": "stream",
     "text": [
      "{\"session_id\":\"0c985a70-6cd0-4315-aa3a-0ae335b48c2e\",\"outputs\":[{\"inputs\":{\"input_value\":\"/home/jrbeluzo/ollama/stage_pdf/arquivos;;;55.txt;;;2000;;;500;;;/home/jrbeluzo/ollama/stage_pdf/vectorDB/ChromaDB/e5-mistral-7b-instruct_Q4_0/55;;;hellord/e5-mistral-7b-instruct:Q4_0\"},\"outputs\":[]}]}0\n"
     ]
    },
    {
     "name": "stderr",
     "output_type": "stream",
     "text": [
      "100  1018  100   291  100   727      6     15  0:00:48  0:00:48 --:--:--    73\n",
      "  % Total    % Received % Xferd  Average Speed   Time    Time     Time  Current\n",
      "                                 Dload  Upload   Total   Spent    Left  Speed\n",
      "  0     0    0     0    0     0      0      0 --:--:-- --:--:-- --:--:--     0"
     ]
    },
    {
     "name": "stdout",
     "output_type": "stream",
     "text": [
      "{\"session_id\":\"0c985a70-6cd0-4315-aa3a-0ae335b48c2e\",\"outputs\":[{\"inputs\":{\"input_value\":\"/home/jrbeluzo/ollama/stage_pdf/arquivos;;;56.txt;;;2000;;;500;;;/home/jrbeluzo/ollama/stage_pdf/vectorDB/ChromaDB/e5-mistral-7b-instruct_Q4_0/56;;;hellord/e5-mistral-7b-instruct:Q4_0\"},\"outputs\":[]}]}0\n"
     ]
    },
    {
     "name": "stderr",
     "output_type": "stream",
     "text": [
      "100  1018  100   291  100   727      2      5  0:02:25  0:02:04  0:00:21    71\n",
      "  % Total    % Received % Xferd  Average Speed   Time    Time     Time  Current\n",
      "                                 Dload  Upload   Total   Spent    Left  Speed\n",
      "  0     0    0     0    0     0      0      0 --:--:-- --:--:-- --:--:--     0"
     ]
    },
    {
     "name": "stdout",
     "output_type": "stream",
     "text": [
      "{\"session_id\":\"0c985a70-6cd0-4315-aa3a-0ae335b48c2e\",\"outputs\":[{\"inputs\":{\"input_value\":\"/home/jrbeluzo/ollama/stage_pdf/arquivos;;;57.txt;;;2000;;;500;;;/home/jrbeluzo/ollama/stage_pdf/vectorDB/ChromaDB/e5-mistral-7b-instruct_Q4_0/57;;;hellord/e5-mistral-7b-instruct:Q4_0\"},\"outputs\":[]}]}0\n"
     ]
    },
    {
     "name": "stderr",
     "output_type": "stream",
     "text": [
      "100  1018  100   291  100   727      4     10  0:01:12  0:01:06  0:00:06    84\n",
      "  % Total    % Received % Xferd  Average Speed   Time    Time     Time  Current\n",
      "                                 Dload  Upload   Total   Spent    Left  Speed\n",
      "  0     0    0     0    0     0      0      0 --:--:-- --:--:-- --:--:--     0"
     ]
    },
    {
     "name": "stdout",
     "output_type": "stream",
     "text": [
      "{\"session_id\":\"0c985a70-6cd0-4315-aa3a-0ae335b48c2e\",\"outputs\":[{\"inputs\":{\"input_value\":\"/home/jrbeluzo/ollama/stage_pdf/arquivos;;;58.txt;;;2000;;;500;;;/home/jrbeluzo/ollama/stage_pdf/vectorDB/ChromaDB/e5-mistral-7b-instruct_Q4_0/58;;;hellord/e5-mistral-7b-instruct:Q4_0\"},\"outputs\":[]}]}0\n"
     ]
    },
    {
     "name": "stderr",
     "output_type": "stream",
     "text": [
      "100  1018  100   291  100   727      9     23  0:00:32  0:00:30  0:00:02    71\n",
      "  % Total    % Received % Xferd  Average Speed   Time    Time     Time  Current\n",
      "                                 Dload  Upload   Total   Spent    Left  Speed\n",
      "  0     0    0     0    0     0      0      0 --:--:-- --:--:-- --:--:--     0"
     ]
    },
    {
     "name": "stdout",
     "output_type": "stream",
     "text": [
      "{\"session_id\":\"0c985a70-6cd0-4315-aa3a-0ae335b48c2e\",\"outputs\":[{\"inputs\":{\"input_value\":\"/home/jrbeluzo/ollama/stage_pdf/arquivos;;;59.txt;;;2000;;;500;;;/home/jrbeluzo/ollama/stage_pdf/vectorDB/ChromaDB/e5-mistral-7b-instruct_Q4_0/59;;;hellord/e5-mistral-7b-instruct:Q4_0\"},\"outputs\":[]}]}0\n"
     ]
    },
    {
     "name": "stderr",
     "output_type": "stream",
     "text": [
      "100  1018  100   291  100   727      3      8  0:01:37  0:01:26  0:00:11    74\n",
      "  % Total    % Received % Xferd  Average Speed   Time    Time     Time  Current\n",
      "                                 Dload  Upload   Total   Spent    Left  Speed\n",
      "  0     0    0     0    0     0      0      0 --:--:-- --:--:-- --:--:--     0"
     ]
    },
    {
     "name": "stdout",
     "output_type": "stream",
     "text": [
      "{\"session_id\":\"0c985a70-6cd0-4315-aa3a-0ae335b48c2e\",\"outputs\":[{\"inputs\":{\"input_value\":\"/home/jrbeluzo/ollama/stage_pdf/arquivos;;;60.txt;;;2000;;;500;;;/home/jrbeluzo/ollama/stage_pdf/vectorDB/ChromaDB/e5-mistral-7b-instruct_Q4_0/60;;;hellord/e5-mistral-7b-instruct:Q4_0\"},\"outputs\":[]}]}0\n"
     ]
    },
    {
     "name": "stderr",
     "output_type": "stream",
     "text": [
      "100  1018  100   291  100   727     10     24  0:00:30  0:00:29  0:00:01    75\n",
      "  % Total    % Received % Xferd  Average Speed   Time    Time     Time  Current\n",
      "                                 Dload  Upload   Total   Spent    Left  Speed\n",
      "  0     0    0     0    0     0      0      0 --:--:-- --:--:-- --:--:--     0"
     ]
    },
    {
     "name": "stdout",
     "output_type": "stream",
     "text": [
      "{\"session_id\":\"0c985a70-6cd0-4315-aa3a-0ae335b48c2e\",\"outputs\":[{\"inputs\":{\"input_value\":\"/home/jrbeluzo/ollama/stage_pdf/arquivos;;;61.txt;;;2000;;;500;;;/home/jrbeluzo/ollama/stage_pdf/vectorDB/ChromaDB/e5-mistral-7b-instruct_Q4_0/61;;;hellord/e5-mistral-7b-instruct:Q4_0\"},\"outputs\":[]}]}0\n"
     ]
    },
    {
     "name": "stderr",
     "output_type": "stream",
     "text": [
      "100  1018  100   291  100   727      8     22  0:00:36  0:00:33  0:00:03    60\n",
      "  % Total    % Received % Xferd  Average Speed   Time    Time     Time  Current\n",
      "                                 Dload  Upload   Total   Spent    Left  Speed\n",
      "  0     0    0     0    0     0      0      0 --:--:-- --:--:-- --:--:--     0"
     ]
    },
    {
     "name": "stdout",
     "output_type": "stream",
     "text": [
      "{\"session_id\":\"0c985a70-6cd0-4315-aa3a-0ae335b48c2e\",\"outputs\":[{\"inputs\":{\"input_value\":\"/home/jrbeluzo/ollama/stage_pdf/arquivos;;;63.txt;;;2000;;;500;;;/home/jrbeluzo/ollama/stage_pdf/vectorDB/ChromaDB/e5-mistral-7b-instruct_Q4_0/63;;;hellord/e5-mistral-7b-instruct:Q4_0\"},\"outputs\":[]}]}0\n"
     ]
    },
    {
     "name": "stderr",
     "output_type": "stream",
     "text": [
      "100  1018  100   291  100   727      2      5  0:02:25  0:02:01  0:00:24    68\n",
      "  % Total    % Received % Xferd  Average Speed   Time    Time     Time  Current\n",
      "                                 Dload  Upload   Total   Spent    Left  Speed\n",
      "  0     0    0     0    0     0      0      0 --:--:-- --:--:-- --:--:--     0"
     ]
    },
    {
     "name": "stdout",
     "output_type": "stream",
     "text": [
      "{\"session_id\":\"0c985a70-6cd0-4315-aa3a-0ae335b48c2e\",\"outputs\":[{\"inputs\":{\"input_value\":\"/home/jrbeluzo/ollama/stage_pdf/arquivos;;;66.txt;;;2000;;;500;;;/home/jrbeluzo/ollama/stage_pdf/vectorDB/ChromaDB/e5-mistral-7b-instruct_Q4_0/66;;;hellord/e5-mistral-7b-instruct:Q4_0\"},\"outputs\":[]}]}0\n"
     ]
    },
    {
     "name": "stderr",
     "output_type": "stream",
     "text": [
      "100  1018  100   291  100   727      1      3  0:04:51  0:03:24  0:01:27    65\n",
      "  % Total    % Received % Xferd  Average Speed   Time    Time     Time  Current\n",
      "                                 Dload  Upload   Total   Spent    Left  Speed\n",
      "  0     0    0     0    0     0      0      0 --:--:-- --:--:-- --:--:--     0"
     ]
    },
    {
     "name": "stdout",
     "output_type": "stream",
     "text": [
      "{\"session_id\":\"0c985a70-6cd0-4315-aa3a-0ae335b48c2e\",\"outputs\":[{\"inputs\":{\"input_value\":\"/home/jrbeluzo/ollama/stage_pdf/arquivos;;;67.txt;;;2000;;;500;;;/home/jrbeluzo/ollama/stage_pdf/vectorDB/ChromaDB/e5-mistral-7b-instruct_Q4_0/67;;;hellord/e5-mistral-7b-instruct:Q4_0\"},\"outputs\":[]}]}0\n"
     ]
    },
    {
     "name": "stderr",
     "output_type": "stream",
     "text": [
      "100  1018  100   291  100   727      3      7  0:01:43  0:01:32  0:00:11    64\n",
      "  % Total    % Received % Xferd  Average Speed   Time    Time     Time  Current\n",
      "                                 Dload  Upload   Total   Spent    Left  Speed\n",
      "  0     0    0     0    0     0      0      0 --:--:-- --:--:-- --:--:--     0"
     ]
    },
    {
     "name": "stdout",
     "output_type": "stream",
     "text": [
      "{\"session_id\":\"0c985a70-6cd0-4315-aa3a-0ae335b48c2e\",\"outputs\":[{\"inputs\":{\"input_value\":\"/home/jrbeluzo/ollama/stage_pdf/arquivos;;;68.txt;;;2000;;;500;;;/home/jrbeluzo/ollama/stage_pdf/vectorDB/ChromaDB/e5-mistral-7b-instruct_Q4_0/68;;;hellord/e5-mistral-7b-instruct:Q4_0\"},\"outputs\":[]}]}0\n"
     ]
    },
    {
     "name": "stderr",
     "output_type": "stream",
     "text": [
      "100  1018  100   291  100   727      1      3  0:04:51  0:03:21  0:01:30    70\n",
      "  % Total    % Received % Xferd  Average Speed   Time    Time     Time  Current\n",
      "                                 Dload  Upload   Total   Spent    Left  Speed\n",
      "  0     0    0     0    0     0      0      0 --:--:-- --:--:-- --:--:--     0"
     ]
    },
    {
     "name": "stdout",
     "output_type": "stream",
     "text": [
      "{\"session_id\":\"0c985a70-6cd0-4315-aa3a-0ae335b48c2e\",\"outputs\":[{\"inputs\":{\"input_value\":\"/home/jrbeluzo/ollama/stage_pdf/arquivos;;;69.txt;;;2000;;;500;;;/home/jrbeluzo/ollama/stage_pdf/vectorDB/ChromaDB/e5-mistral-7b-instruct_Q4_0/69;;;hellord/e5-mistral-7b-instruct:Q4_0\"},\"outputs\":[]}]}0\n"
     ]
    },
    {
     "name": "stderr",
     "output_type": "stream",
     "text": [
      "100  1018  100   291  100   727      3      8  0:01:37  0:01:27  0:00:10    76\n",
      "  % Total    % Received % Xferd  Average Speed   Time    Time     Time  Current\n",
      "                                 Dload  Upload   Total   Spent    Left  Speed\n",
      "  0     0    0     0    0     0      0      0 --:--:-- --:--:-- --:--:--     0"
     ]
    },
    {
     "name": "stdout",
     "output_type": "stream",
     "text": [
      "{\"session_id\":\"0c985a70-6cd0-4315-aa3a-0ae335b48c2e\",\"outputs\":[{\"inputs\":{\"input_value\":\"/home/jrbeluzo/ollama/stage_pdf/arquivos;;;70.txt;;;2000;;;500;;;/home/jrbeluzo/ollama/stage_pdf/vectorDB/ChromaDB/e5-mistral-7b-instruct_Q4_0/70;;;hellord/e5-mistral-7b-instruct:Q4_0\"},\"outputs\":[]}]}0\n"
     ]
    },
    {
     "name": "stderr",
     "output_type": "stream",
     "text": [
      "100  1018  100   291  100   727      4     12  0:01:12  0:01:00  0:00:12    76\n",
      "  % Total    % Received % Xferd  Average Speed   Time    Time     Time  Current\n",
      "                                 Dload  Upload   Total   Spent    Left  Speed\n",
      "  0     0    0     0    0     0      0      0 --:--:-- --:--:-- --:--:--     0"
     ]
    },
    {
     "name": "stdout",
     "output_type": "stream",
     "text": [
      "{\"session_id\":\"0c985a70-6cd0-4315-aa3a-0ae335b48c2e\",\"outputs\":[{\"inputs\":{\"input_value\":\"/home/jrbeluzo/ollama/stage_pdf/arquivos;;;71.txt;;;2000;;;500;;;/home/jrbeluzo/ollama/stage_pdf/vectorDB/ChromaDB/e5-mistral-7b-instruct_Q4_0/71;;;hellord/e5-mistral-7b-instruct:Q4_0\"},\"outputs\":[]}]}0\n"
     ]
    },
    {
     "name": "stderr",
     "output_type": "stream",
     "text": [
      "100  1018  100   291  100   727     29     72  0:00:10  0:00:09  0:00:01    77\n",
      "  % Total    % Received % Xferd  Average Speed   Time    Time     Time  Current\n",
      "                                 Dload  Upload   Total   Spent    Left  Speed\n",
      "  0     0    0     0    0     0      0      0 --:--:-- --:--:-- --:--:--     0"
     ]
    },
    {
     "name": "stdout",
     "output_type": "stream",
     "text": [
      "{\"session_id\":\"0c985a70-6cd0-4315-aa3a-0ae335b48c2e\",\"outputs\":[{\"inputs\":{\"input_value\":\"/home/jrbeluzo/ollama/stage_pdf/arquivos;;;72.txt;;;2000;;;500;;;/home/jrbeluzo/ollama/stage_pdf/vectorDB/ChromaDB/e5-mistral-7b-instruct_Q4_0/72;;;hellord/e5-mistral-7b-instruct:Q4_0\"},\"outputs\":[]}]}0\n"
     ]
    },
    {
     "name": "stderr",
     "output_type": "stream",
     "text": [
      "100  1018  100   291  100   727      2      6  0:02:25  0:01:57  0:00:28    71\n",
      "  % Total    % Received % Xferd  Average Speed   Time    Time     Time  Current\n",
      "                                 Dload  Upload   Total   Spent    Left  Speed\n",
      "  0     0    0     0    0     0      0      0 --:--:-- --:--:-- --:--:--     0"
     ]
    },
    {
     "name": "stdout",
     "output_type": "stream",
     "text": [
      "{\"session_id\":\"0c985a70-6cd0-4315-aa3a-0ae335b48c2e\",\"outputs\":[{\"inputs\":{\"input_value\":\"/home/jrbeluzo/ollama/stage_pdf/arquivos;;;73.txt;;;2000;;;500;;;/home/jrbeluzo/ollama/stage_pdf/vectorDB/ChromaDB/e5-mistral-7b-instruct_Q4_0/73;;;hellord/e5-mistral-7b-instruct:Q4_0\"},\"outputs\":[]}]}0\n"
     ]
    },
    {
     "name": "stderr",
     "output_type": "stream",
     "text": [
      "100  1018  100   291  100   727      3      7  0:01:43  0:01:35  0:00:08    82\n",
      "  % Total    % Received % Xferd  Average Speed   Time    Time     Time  Current\n",
      "                                 Dload  Upload   Total   Spent    Left  Speed\n",
      "  0     0    0     0    0     0      0      0 --:--:-- --:--:-- --:--:--     0"
     ]
    },
    {
     "name": "stdout",
     "output_type": "stream",
     "text": [
      "{\"session_id\":\"0c985a70-6cd0-4315-aa3a-0ae335b48c2e\",\"outputs\":[{\"inputs\":{\"input_value\":\"/home/jrbeluzo/ollama/stage_pdf/arquivos;;;74.txt;;;2000;;;500;;;/home/jrbeluzo/ollama/stage_pdf/vectorDB/ChromaDB/e5-mistral-7b-instruct_Q4_0/74;;;hellord/e5-mistral-7b-instruct:Q4_0\"},\"outputs\":[]}]}0\n"
     ]
    },
    {
     "name": "stderr",
     "output_type": "stream",
     "text": [
      "100  1018  100   291  100   727      1      3  0:04:51  0:03:13  0:01:38    75\n",
      "  % Total    % Received % Xferd  Average Speed   Time    Time     Time  Current\n",
      "                                 Dload  Upload   Total   Spent    Left  Speed\n",
      "  0     0    0     0    0     0      0      0 --:--:-- --:--:-- --:--:--     0"
     ]
    },
    {
     "name": "stdout",
     "output_type": "stream",
     "text": [
      "{\"session_id\":\"0c985a70-6cd0-4315-aa3a-0ae335b48c2e\",\"outputs\":[{\"inputs\":{\"input_value\":\"/home/jrbeluzo/ollama/stage_pdf/arquivos;;;75.txt;;;2000;;;500;;;/home/jrbeluzo/ollama/stage_pdf/vectorDB/ChromaDB/e5-mistral-7b-instruct_Q4_0/75;;;hellord/e5-mistral-7b-instruct:Q4_0\"},\"outputs\":[]}]}0\n"
     ]
    },
    {
     "name": "stderr",
     "output_type": "stream",
     "text": [
      "100  1018    0   291  100   727      0      1  0:12:07  0:09:54  0:02:13    76\n",
      "  % Total    % Received % Xferd  Average Speed   Time    Time     Time  Current\n",
      "                                 Dload  Upload   Total   Spent    Left  Speed\n",
      "  0     0    0     0    0     0      0      0 --:--:-- --:--:-- --:--:--     0"
     ]
    },
    {
     "name": "stdout",
     "output_type": "stream",
     "text": [
      "{\"session_id\":\"0c985a70-6cd0-4315-aa3a-0ae335b48c2e\",\"outputs\":[{\"inputs\":{\"input_value\":\"/home/jrbeluzo/ollama/stage_pdf/arquivos;;;76.txt;;;2000;;;500;;;/home/jrbeluzo/ollama/stage_pdf/vectorDB/ChromaDB/e5-mistral-7b-instruct_Q4_0/76;;;hellord/e5-mistral-7b-instruct:Q4_0\"},\"outputs\":[]}]}0\n"
     ]
    },
    {
     "name": "stderr",
     "output_type": "stream",
     "text": [
      "100  1018  100   291  100   727      6     16  0:00:48  0:00:42  0:00:06    81\n",
      "  % Total    % Received % Xferd  Average Speed   Time    Time     Time  Current\n",
      "                                 Dload  Upload   Total   Spent    Left  Speed\n",
      "  0     0    0     0    0     0      0      0 --:--:-- --:--:-- --:--:--     0"
     ]
    },
    {
     "name": "stdout",
     "output_type": "stream",
     "text": [
      "{\"session_id\":\"0c985a70-6cd0-4315-aa3a-0ae335b48c2e\",\"outputs\":[{\"inputs\":{\"input_value\":\"/home/jrbeluzo/ollama/stage_pdf/arquivos;;;77.txt;;;2000;;;500;;;/home/jrbeluzo/ollama/stage_pdf/vectorDB/ChromaDB/e5-mistral-7b-instruct_Q4_0/77;;;hellord/e5-mistral-7b-instruct:Q4_0\"},\"outputs\":[]}]}0\n"
     ]
    },
    {
     "name": "stderr",
     "output_type": "stream",
     "text": [
      "100  1018  100   291  100   727     10     26  0:00:29  0:00:27  0:00:02    73\n",
      "  % Total    % Received % Xferd  Average Speed   Time    Time     Time  Current\n",
      "                                 Dload  Upload   Total   Spent    Left  Speed\n",
      "  0     0    0     0    0     0      0      0 --:--:-- --:--:-- --:--:--     0"
     ]
    },
    {
     "name": "stdout",
     "output_type": "stream",
     "text": [
      "{\"session_id\":\"0c985a70-6cd0-4315-aa3a-0ae335b48c2e\",\"outputs\":[{\"inputs\":{\"input_value\":\"/home/jrbeluzo/ollama/stage_pdf/arquivos;;;78.txt;;;2000;;;500;;;/home/jrbeluzo/ollama/stage_pdf/vectorDB/ChromaDB/e5-mistral-7b-instruct_Q4_0/78;;;hellord/e5-mistral-7b-instruct:Q4_0\"},\"outputs\":[]}]}0\n"
     ]
    },
    {
     "name": "stderr",
     "output_type": "stream",
     "text": [
      "100  1018  100   291  100   727      7     19  0:00:41  0:00:37  0:00:04    81\n",
      "  % Total    % Received % Xferd  Average Speed   Time    Time     Time  Current\n",
      "                                 Dload  Upload   Total   Spent    Left  Speed\n",
      "  0     0    0     0    0     0      0      0 --:--:-- --:--:-- --:--:--     0"
     ]
    },
    {
     "name": "stdout",
     "output_type": "stream",
     "text": [
      "{\"session_id\":\"0c985a70-6cd0-4315-aa3a-0ae335b48c2e\",\"outputs\":[{\"inputs\":{\"input_value\":\"/home/jrbeluzo/ollama/stage_pdf/arquivos;;;79.txt;;;2000;;;500;;;/home/jrbeluzo/ollama/stage_pdf/vectorDB/ChromaDB/e5-mistral-7b-instruct_Q4_0/79;;;hellord/e5-mistral-7b-instruct:Q4_0\"},\"outputs\":[]}]}0\n"
     ]
    },
    {
     "name": "stderr",
     "output_type": "stream",
     "text": [
      "100  1018  100   291  100   727      7     19  0:00:41  0:00:36  0:00:05    82\n",
      "  % Total    % Received % Xferd  Average Speed   Time    Time     Time  Current\n",
      "                                 Dload  Upload   Total   Spent    Left  Speed\n",
      "  0     0    0     0    0     0      0      0 --:--:-- --:--:-- --:--:--     0"
     ]
    },
    {
     "name": "stdout",
     "output_type": "stream",
     "text": [
      "{\"session_id\":\"0c985a70-6cd0-4315-aa3a-0ae335b48c2e\",\"outputs\":[{\"inputs\":{\"input_value\":\"/home/jrbeluzo/ollama/stage_pdf/arquivos;;;80.txt;;;2000;;;500;;;/home/jrbeluzo/ollama/stage_pdf/vectorDB/ChromaDB/e5-mistral-7b-instruct_Q4_0/80;;;hellord/e5-mistral-7b-instruct:Q4_0\"},\"outputs\":[]}]}0\n"
     ]
    },
    {
     "name": "stderr",
     "output_type": "stream",
     "text": [
      "100  1018  100   291  100   727     13     34  0:00:22  0:00:21  0:00:01    75\n",
      "  % Total    % Received % Xferd  Average Speed   Time    Time     Time  Current\n",
      "                                 Dload  Upload   Total   Spent    Left  Speed\n",
      "  0     0    0     0    0     0      0      0 --:--:-- --:--:-- --:--:--     0"
     ]
    },
    {
     "name": "stdout",
     "output_type": "stream",
     "text": [
      "{\"session_id\":\"0c985a70-6cd0-4315-aa3a-0ae335b48c2e\",\"outputs\":[{\"inputs\":{\"input_value\":\"/home/jrbeluzo/ollama/stage_pdf/arquivos;;;81.txt;;;2000;;;500;;;/home/jrbeluzo/ollama/stage_pdf/vectorDB/ChromaDB/e5-mistral-7b-instruct_Q4_0/81;;;hellord/e5-mistral-7b-instruct:Q4_0\"},\"outputs\":[]}]}0\n"
     ]
    },
    {
     "name": "stderr",
     "output_type": "stream",
     "text": [
      "100  1018  100   291  100   727      1      3  0:04:51  0:03:10  0:01:41    65\n",
      "  % Total    % Received % Xferd  Average Speed   Time    Time     Time  Current\n",
      "                                 Dload  Upload   Total   Spent    Left  Speed\n",
      "  0     0    0     0    0     0      0      0 --:--:-- --:--:-- --:--:--     0"
     ]
    },
    {
     "name": "stdout",
     "output_type": "stream",
     "text": [
      "{\"session_id\":\"0c985a70-6cd0-4315-aa3a-0ae335b48c2e\",\"outputs\":[{\"inputs\":{\"input_value\":\"/home/jrbeluzo/ollama/stage_pdf/arquivos;;;82.txt;;;2000;;;500;;;/home/jrbeluzo/ollama/stage_pdf/vectorDB/ChromaDB/e5-mistral-7b-instruct_Q4_0/82;;;hellord/e5-mistral-7b-instruct:Q4_0\"},\"outputs\":[]}]}0\n"
     ]
    },
    {
     "name": "stderr",
     "output_type": "stream",
     "text": [
      "100  1018    0   291  100   727      0      2  0:06:03  0:04:58  0:01:05    72\n",
      "  % Total    % Received % Xferd  Average Speed   Time    Time     Time  Current\n",
      "                                 Dload  Upload   Total   Spent    Left  Speed\n",
      "  0     0    0     0    0     0      0      0 --:--:-- --:--:-- --:--:--     0"
     ]
    },
    {
     "name": "stdout",
     "output_type": "stream",
     "text": [
      "{\"session_id\":\"0c985a70-6cd0-4315-aa3a-0ae335b48c2e\",\"outputs\":[{\"inputs\":{\"input_value\":\"/home/jrbeluzo/ollama/stage_pdf/arquivos;;;83.txt;;;2000;;;500;;;/home/jrbeluzo/ollama/stage_pdf/vectorDB/ChromaDB/e5-mistral-7b-instruct_Q4_0/83;;;hellord/e5-mistral-7b-instruct:Q4_0\"},\"outputs\":[]}]}0\n"
     ]
    },
    {
     "name": "stderr",
     "output_type": "stream",
     "text": [
      "100  1018  100   291  100   727     14     36  0:00:20  0:00:20 --:--:--    73\n",
      "  % Total    % Received % Xferd  Average Speed   Time    Time     Time  Current\n",
      "                                 Dload  Upload   Total   Spent    Left  Speed\n",
      "  0     0    0     0    0     0      0      0 --:--:-- --:--:-- --:--:--     0"
     ]
    },
    {
     "name": "stdout",
     "output_type": "stream",
     "text": [
      "{\"session_id\":\"0c985a70-6cd0-4315-aa3a-0ae335b48c2e\",\"outputs\":[{\"inputs\":{\"input_value\":\"/home/jrbeluzo/ollama/stage_pdf/arquivos;;;84.txt;;;2000;;;500;;;/home/jrbeluzo/ollama/stage_pdf/vectorDB/ChromaDB/e5-mistral-7b-instruct_Q4_0/84;;;hellord/e5-mistral-7b-instruct:Q4_0\"},\"outputs\":[]}]}0\n"
     ]
    },
    {
     "name": "stderr",
     "output_type": "stream",
     "text": [
      "100   727    0     0  100   727      0      1  0:12:07  0:07:18  0:04:49     0"
     ]
    },
    {
     "name": "stdout",
     "output_type": "stream",
     "text": [
      "{\"session_id\":\"0c985a70-6cd0-4315-aa3a-0ae335b48c2e\",\"outputs\":[{\"inputs\":{\"input_value\":\"/home/jrbeluzo/ollama/stage_pdf/arquivos;;;85.txt;;;2000;;;500;;;/home/jrbeluzo/ollama/stage_pdf/vectorDB/ChromaDB/e5-mistral-7b-instruct_Q4_0/85;;;hellord/e5-mistral-7b-instruct:Q4_0\"},\"outputs\":[]}]}0\n"
     ]
    },
    {
     "name": "stderr",
     "output_type": "stream",
     "text": [
      "100  1018    0   291  100   727      0      1  0:12:07  0:07:18  0:04:49    80\n"
     ]
    }
   ],
   "source": [
    "cont = 0\n",
    "for pasta_raiz, diretorios, arquivos in os.walk(pasta_origem):\n",
    "    arquivos.sort()\n",
    "    for a in arquivos:\n",
    "        if(len(a)==6):\n",
    "            #print(a[:2])   \n",
    "            cont = cont + 1\n",
    "            pasta_gravacao = \"/home/jrbeluzo/ollama/stage_pdf/vectorDB/ChromaDB/\"+nome_modelo_embedding+\"/\"+a[:2]\n",
    "\n",
    "\n",
    "            \n",
    "            input_values = '\"'+ pasta_origem + ';;;'+ a +';;;'+str(chunk_size)+';;;'+str(chunk_overlap)+';;;'+ pasta_gravacao +';;;'+ nome_modelo_embedding +'\"'\n",
    "            #print(input_values) \n",
    "            #fluxo coleta\n",
    "            requisicao = \"\"\"curl -X POST \\\n",
    "                \"http://localhost:7860/api/v1/run/0c985a70-6cd0-4315-aa3a-0ae335b48c2e?stream=false\" \\\n",
    "                -H 'Content-Type: application/json'\\\n",
    "                -d '{\"input_value\": \"\"\" + input_values + \"\"\",\n",
    "                \"output_type\": \"text\",\n",
    "                \"input_type\": \"text\",\n",
    "                \"tweaks\": {\n",
    "              \"File-SR9yn\": {},\n",
    "              \"OllamaEmbeddings-sxVEK\": {},\n",
    "              \"SplitText-r1R9B\": {},\n",
    "              \"Chroma-SMw1R\": {},\n",
    "              \"TextInput-XfVxn\": {},\n",
    "              \"TextInput-SsRZg\": {},\n",
    "              \"TextInput-1rxO4\": {},\n",
    "              \"TextInput-hluK0\": {},\n",
    "              \"TextInput-sk5Fw\": {},\n",
    "              \"TextInput-dcBBZ\": {},\n",
    "              \"TextInput-YRunr\": {}\n",
    "            }}'\"\"\"\n",
    "            #print(requisicao)\n",
    "            #break\n",
    "            try:\n",
    "                x = os.system(requisicao)\n",
    "                try:\n",
    "                    if \"Error\" not in x:\n",
    "                        print(\"Arquivo \" + pasta_gravacao + \" vetorizado.\")\n",
    "                    else:\n",
    "                        print(\"Erro: \" + a + \" falhou vetorizacao.\");\n",
    "                except:\n",
    "                    print(x)\n",
    "            except:\n",
    "                print(\"\\n\\nERRO: Arquivo \" + pasta_gravacao + \" NÃO vetorizado! \\n\\n\")"
   ]
  }
 ],
 "metadata": {
  "kernelspec": {
   "display_name": "Python 3 (ipykernel)",
   "language": "python",
   "name": "python3"
  },
  "language_info": {
   "codemirror_mode": {
    "name": "ipython",
    "version": 3
   },
   "file_extension": ".py",
   "mimetype": "text/x-python",
   "name": "python",
   "nbconvert_exporter": "python",
   "pygments_lexer": "ipython3",
   "version": "3.10.12"
  }
 },
 "nbformat": 4,
 "nbformat_minor": 5
}
